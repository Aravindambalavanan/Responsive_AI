{
 "cells": [
  {
   "cell_type": "code",
   "execution_count": 10,
   "id": "0428e233",
   "metadata": {},
   "outputs": [],
   "source": [
    "# importing the necessary libraries\n",
    "\n",
    "from scipy.sparse import vstack, csr_matrix, csc_matrix\n",
    "from scipy.sparse.data import _data_matrix\n",
    "import numpy as np\n",
    "from collections import Counter\n",
    "from sklearn.ensemble import RandomForestClassifier\n",
    "import pandas as pd\n",
    "from sklearn.datasets import make_classification"
   ]
  },
  {
   "cell_type": "markdown",
   "id": "d47a6474",
   "metadata": {},
   "source": [
    "Dataset Source: This dataset is originally from the National Institute of Diabetes and Digestive and Kidney\n",
    "Diseases"
   ]
  },
  {
   "cell_type": "code",
   "execution_count": 2,
   "id": "d0a0af6d",
   "metadata": {},
   "outputs": [
    {
     "data": {
      "text/html": [
       "<div>\n",
       "<style scoped>\n",
       "    .dataframe tbody tr th:only-of-type {\n",
       "        vertical-align: middle;\n",
       "    }\n",
       "\n",
       "    .dataframe tbody tr th {\n",
       "        vertical-align: top;\n",
       "    }\n",
       "\n",
       "    .dataframe thead th {\n",
       "        text-align: right;\n",
       "    }\n",
       "</style>\n",
       "<table border=\"1\" class=\"dataframe\">\n",
       "  <thead>\n",
       "    <tr style=\"text-align: right;\">\n",
       "      <th></th>\n",
       "      <th>Pregnancies</th>\n",
       "      <th>Glucose</th>\n",
       "      <th>BloodPressure</th>\n",
       "      <th>SkinThickness</th>\n",
       "      <th>Insulin</th>\n",
       "      <th>BMI</th>\n",
       "      <th>DiabetesPedigreeFunction</th>\n",
       "      <th>Age</th>\n",
       "      <th>Outcome</th>\n",
       "    </tr>\n",
       "  </thead>\n",
       "  <tbody>\n",
       "    <tr>\n",
       "      <th>0</th>\n",
       "      <td>6</td>\n",
       "      <td>148</td>\n",
       "      <td>72</td>\n",
       "      <td>35</td>\n",
       "      <td>0</td>\n",
       "      <td>33.6</td>\n",
       "      <td>0.627</td>\n",
       "      <td>50</td>\n",
       "      <td>1</td>\n",
       "    </tr>\n",
       "    <tr>\n",
       "      <th>1</th>\n",
       "      <td>1</td>\n",
       "      <td>85</td>\n",
       "      <td>66</td>\n",
       "      <td>29</td>\n",
       "      <td>0</td>\n",
       "      <td>26.6</td>\n",
       "      <td>0.351</td>\n",
       "      <td>31</td>\n",
       "      <td>0</td>\n",
       "    </tr>\n",
       "    <tr>\n",
       "      <th>2</th>\n",
       "      <td>8</td>\n",
       "      <td>183</td>\n",
       "      <td>64</td>\n",
       "      <td>0</td>\n",
       "      <td>0</td>\n",
       "      <td>23.3</td>\n",
       "      <td>0.672</td>\n",
       "      <td>32</td>\n",
       "      <td>1</td>\n",
       "    </tr>\n",
       "    <tr>\n",
       "      <th>3</th>\n",
       "      <td>1</td>\n",
       "      <td>89</td>\n",
       "      <td>66</td>\n",
       "      <td>23</td>\n",
       "      <td>94</td>\n",
       "      <td>28.1</td>\n",
       "      <td>0.167</td>\n",
       "      <td>21</td>\n",
       "      <td>0</td>\n",
       "    </tr>\n",
       "    <tr>\n",
       "      <th>4</th>\n",
       "      <td>0</td>\n",
       "      <td>137</td>\n",
       "      <td>40</td>\n",
       "      <td>35</td>\n",
       "      <td>168</td>\n",
       "      <td>43.1</td>\n",
       "      <td>2.288</td>\n",
       "      <td>33</td>\n",
       "      <td>1</td>\n",
       "    </tr>\n",
       "  </tbody>\n",
       "</table>\n",
       "</div>"
      ],
      "text/plain": [
       "   Pregnancies  Glucose  BloodPressure  SkinThickness  Insulin   BMI  \\\n",
       "0            6      148             72             35        0  33.6   \n",
       "1            1       85             66             29        0  26.6   \n",
       "2            8      183             64              0        0  23.3   \n",
       "3            1       89             66             23       94  28.1   \n",
       "4            0      137             40             35      168  43.1   \n",
       "\n",
       "   DiabetesPedigreeFunction  Age  Outcome  \n",
       "0                     0.627   50        1  \n",
       "1                     0.351   31        0  \n",
       "2                     0.672   32        1  \n",
       "3                     0.167   21        0  \n",
       "4                     2.288   33        1  "
      ]
     },
     "execution_count": 2,
     "metadata": {},
     "output_type": "execute_result"
    }
   ],
   "source": [
    "# read the csv file\n",
    "df = pd.read_csv(\"C:/Users/prath/Downloads/MCA/diabetes.csv\")\n",
    "\n",
    "# displays the first 5 rows of the dataframe\n",
    "df.head()"
   ]
  },
  {
   "cell_type": "code",
   "execution_count": 3,
   "id": "3de09aba",
   "metadata": {},
   "outputs": [
    {
     "data": {
      "text/plain": [
       "Pregnancies                 0\n",
       "Glucose                     0\n",
       "BloodPressure               0\n",
       "SkinThickness               0\n",
       "Insulin                     0\n",
       "BMI                         0\n",
       "DiabetesPedigreeFunction    0\n",
       "Age                         0\n",
       "Outcome                     0\n",
       "dtype: int64"
      ]
     },
     "execution_count": 3,
     "metadata": {},
     "output_type": "execute_result"
    }
   ],
   "source": [
    "df.isna().sum()"
   ]
  },
  {
   "cell_type": "markdown",
   "id": "0a317349",
   "metadata": {},
   "source": [
    "# Graph"
   ]
  },
  {
   "cell_type": "markdown",
   "id": "1988ceca",
   "metadata": {},
   "source": [
    "Outcome based on Age Group"
   ]
  },
  {
   "cell_type": "code",
   "execution_count": 15,
   "id": "26fd75ed",
   "metadata": {},
   "outputs": [
    {
     "data": {
      "image/png": "[encoded data removed]",
      "text/plain": [
       "<Figure size 864x576 with 1 Axes>"
      ]
     },
     "metadata": {},
     "output_type": "display_data"
    }
   ],
   "source": [
    "import matplotlib.pyplot as plt\n",
    "import pandas as pd\n",
    "\n",
    "# Define age groups\n",
    "bins = [20, 30, 40, 50, 60, 70, 80]\n",
    "labels = ['20-29', '30-39', '40-49', '50-59', '60-69', '70-80']\n",
    "df['AgeGroup'] = pd.cut(df['Age'], bins=bins, labels=labels, right=False)\n",
    "\n",
    "# Bar plot for Outcome based on Age Group\n",
    "plt.figure(figsize=(12, 8))\n",
    "sns.countplot(x='AgeGroup', hue='Outcome', data=df)\n",
    "plt.title('Outcome based on Age Group')\n",
    "plt.xlabel('Age Group')\n",
    "plt.ylabel('Count')\n",
    "plt.show()"
   ]
  },
  {
   "cell_type": "markdown",
   "id": "d30e63a6",
   "metadata": {},
   "source": [
    "Distribution of Outcome"
   ]
  },
  {
   "cell_type": "code",
   "execution_count": 17,
   "id": "5321b117",
   "metadata": {},
   "outputs": [
    {
     "data": {
      "image/png": "[encoded data removed]",
      "text/plain": [
       "<Figure size 576x432 with 1 Axes>"
      ]
     },
     "metadata": {},
     "output_type": "display_data"
    }
   ],
   "source": [
    "import seaborn as sns\n",
    "\n",
    "# Bar plot for Outcome\n",
    "plt.figure(figsize=(8, 6))\n",
    "sns.countplot(x='Outcome', data=df)\n",
    "plt.title('Distribution of Outcome')\n",
    "plt.xlabel('Outcome')\n",
    "plt.ylabel('Count')\n",
    "plt.show()"
   ]
  },
  {
   "cell_type": "markdown",
   "id": "18f08b97",
   "metadata": {},
   "source": [
    "Distribution of BMI"
   ]
  },
  {
   "cell_type": "code",
   "execution_count": 18,
   "id": "614240eb",
   "metadata": {},
   "outputs": [
    {
     "data": {
      "image/png": "[encoded data removed]",
      "text/plain": [
       "<Figure size 576x432 with 1 Axes>"
      ]
     },
     "metadata": {},
     "output_type": "display_data"
    },
    {
     "data": {
      "image/png": "[encoded data removed]",
      "text/plain": [
       "<Figure size 576x432 with 1 Axes>"
      ]
     },
     "metadata": {},
     "output_type": "display_data"
    }
   ],
   "source": [
    "# Histogram for BMI\n",
    "plt.figure(figsize=(8, 6))\n",
    "sns.histplot(df['BMI'], bins=30, kde=False, color='skyblue')\n",
    "plt.title('Distribution of BMI')\n",
    "plt.xlabel('BMI')\n",
    "plt.ylabel('Count')\n",
    "plt.show()\n",
    "\n",
    "# Kernel Density Plot for BMI\n",
    "plt.figure(figsize=(8, 6))\n",
    "sns.kdeplot(df['BMI'], fill=True, color='skyblue')\n",
    "plt.title('Kernel Density Plot of BMI')\n",
    "plt.xlabel('BMI')\n",
    "plt.ylabel('Density')\n",
    "plt.show()"
   ]
  },
  {
   "cell_type": "markdown",
   "id": "3dc96b76",
   "metadata": {},
   "source": [
    "# Supervised Classifier"
   ]
  },
  {
   "cell_type": "code",
   "execution_count": 4,
   "id": "dc723ef0",
   "metadata": {},
   "outputs": [],
   "source": [
    "from sklearn.ensemble import RandomForestClassifier\n",
    "\n",
    "class SupervisedClassifier(object):\n",
    "    def __init__(self, clf=None):\n",
    "        # Constructor to initialize the SupervisedClassifier object.\n",
    "        # Parameters:\n",
    "        # - clf: Classifier for supervised learning (default is None, creating a new random forest classifier).\n",
    "        self.clf = RandomForestClassifier() if clf is None else clf\n",
    "        self.is_fit = False\n",
    "    \n",
    "    def fit(self, x, y):\n",
    "        # Fit the classifier on the provided data.\n",
    "        # Parameters:\n",
    "        # - x: Input features.\n",
    "        # - y: Labels.\n",
    "        # Returns:\n",
    "        # - self.\n",
    "        \n",
    "        # Fit the classifier\n",
    "        self.clf.fit(x, y)\n",
    "        self.is_fit = True\n",
    "        return self\n",
    "    \n",
    "    def predict(self, x):\n",
    "        # Make predictions using the fitted classifier.\n",
    "        # Parameters:\n",
    "        # - x: Input features.\n",
    "        # Returns:\n",
    "        # - Predicted labels.\n",
    "        \n",
    "        if not self.is_fit:\n",
    "            raise ValueError(\"Classifier not fitted. Call fit() before making predictions.\")\n",
    "        \n",
    "        return self.clf.predict(x)\n",
    "    \n",
    "    def predict_proba(self, x):\n",
    "        # Predict class probabilities using the fitted classifier.\n",
    "        # Parameters:\n",
    "        # - x: Input features.\n",
    "        # Returns:\n",
    "        # - Predicted class probabilities.\n",
    "        \n",
    "        if not self.is_fit:\n",
    "            raise ValueError(\"Classifier not fitted. Call fit() before making predictions.\")\n",
    "        \n",
    "        return self.clf.predict_proba(x)"
   ]
  },
  {
   "cell_type": "code",
   "execution_count": 5,
   "id": "f8a33637",
   "metadata": {},
   "outputs": [
    {
     "name": "stdout",
     "output_type": "stream",
     "text": [
      "Unique Class Labels: [0 1]\n",
      "Original Class Weights: Counter({0: 401, 1: 213})\n",
      "Corrected Class Weights: Counter({0: 97, 1: 57})\n"
     ]
    }
   ],
   "source": [
    "# Assuming 'Outcome' is your target variable\n",
    "X = df.drop('Outcome', axis=1)  # Features\n",
    "y = df['Outcome']               # Target variable\n",
    "\n",
    "# Split the data into training and testing sets\n",
    "from sklearn.model_selection import train_test_split\n",
    "train_x, test_x, train_y, test_y = train_test_split(X, y, test_size=0.2, random_state=42)\n",
    "\n",
    "# Create an instance of the SupervisedClassifier\n",
    "supervised_clf = SupervisedClassifier()\n",
    "\n",
    "# Fit the classifier on your training data\n",
    "supervised_clf.fit(train_x, train_y)\n",
    "\n",
    "# Make predictions on new data\n",
    "predictions = supervised_clf.predict(test_x)\n",
    "\n",
    "# Get class probabilities (if applicable)\n",
    "probabilities = supervised_clf.predict_proba(test_x)\n",
    "\n",
    "# Print unique class labels\n",
    "unique_labels = np.unique(train_y)\n",
    "print(\"Unique Class Labels:\", unique_labels)\n",
    "\n",
    "# Print original class weights\n",
    "original_class_weights = Counter(train_y)\n",
    "print(\"Original Class Weights:\", original_class_weights)\n",
    "\n",
    "# Print corrected class weights\n",
    "corrected_class_weights = Counter(predictions)\n",
    "print(\"Corrected Class Weights:\", corrected_class_weights)"
   ]
  },
  {
   "cell_type": "markdown",
   "id": "9de31167",
   "metadata": {},
   "source": [
    "# Semi Supervised Classifier"
   ]
  },
  {
   "cell_type": "code",
   "execution_count": 6,
   "id": "e3790888",
   "metadata": {},
   "outputs": [],
   "source": [
    "# Random forest parameters\n",
    "rf_params = dict(n_estimators=128, max_depth=5, n_jobs=16)\n",
    "\n",
    "class SemiSupervisedClassifier(object):\n",
    "    def __init__(self, clf_1=None, clf_2=None, expected_false_negative_frac=0.5):\n",
    "        # Constructor to initialize the SemiSupervisedClassifier object.\n",
    "        # Parameters:\n",
    "        # - clf_1: First random forest classifier (default is None, creating a new one).\n",
    "        # - clf_2: Second random forest classifier (default is None, creating a new one).\n",
    "        # - expected_false_negative_frac: Expected false negative fraction for semi-supervised learning.\n",
    "\n",
    "        # Store the parameters\n",
    "        self.expected_false_negative_frac = expected_false_negative_frac\n",
    "\n",
    "        # Create random forest classifiers if not provided\n",
    "        self.clf_1 = RandomForestClassifier(**rf_params) if clf_1 is None else clf_1\n",
    "        self.clf_2 = RandomForestClassifier(**rf_params) if clf_2 is None else clf_2\n",
    "\n",
    "        # Flags to track if classifiers are fitted\n",
    "        self.clf_1_is_fit = False\n",
    "        self.clf_2_is_fit = False\n",
    "\n",
    "    @staticmethod\n",
    "    def intermediate_data_set(clf, x, y, false_negative_fraction):\n",
    "        # Generate an intermediate dataset for semi-supervised learning.\n",
    "        # Parameters:\n",
    "        # - clf: Classifier used for generating weights.\n",
    "        # - x: Input features.\n",
    "        # - y: Labels.\n",
    "        # - false_negative_fraction: Expected false negative fraction.\n",
    "        # Returns:\n",
    "        # - x_new: New input features.\n",
    "        # - y_new: New labels.\n",
    "        # - weights: Weights for each instance.\n",
    "        \n",
    "        # Print the type of x\n",
    "        print(\"Type of x:\", type(x))\n",
    "\n",
    "        # Assertions for input types\n",
    "        assert isinstance(x, (np.ndarray, csr_matrix))\n",
    "        \n",
    "        # Convert labels to float32\n",
    "        y = np.array(y).astype(np.float32)\n",
    "        \n",
    "        # Separate positive and negative instances\n",
    "        pos_mask = y > 0\n",
    "        \n",
    "        # Predict probabilities for negative instances\n",
    "        probs = clf.predict_proba(x[~pos_mask])\n",
    "        prob_neg = probs[:, 0]\n",
    "        prob_pos = probs[:, 1]\n",
    "        \n",
    "        # Calculate weights based on false negative fraction\n",
    "        assumed_coverage = 1 / (1 + false_negative_fraction)\n",
    "        weights_pos = (1 - assumed_coverage) / assumed_coverage * prob_pos / prob_neg\n",
    "        weights_neg = 1 - weights_pos\n",
    "        \n",
    "        # Assertions for weight sum\n",
    "        assert (min(weights_neg + weights_pos), max(weights_neg + weights_pos)) == (1.0, 1.0), \"weights must sum to 1!\"\n",
    "        \n",
    "        # Calculate number of positive and unlabeled instances\n",
    "        num_pos = np.sum(pos_mask)\n",
    "        num_unlabeled = np.sum(~pos_mask)\n",
    "        \n",
    "        # Concatenate labels and weights\n",
    "        weights = np.concatenate((np.full(num_pos, 1), weights_pos, weights_neg))\n",
    "        y_new = np.concatenate((y[pos_mask], np.full(num_unlabeled, np.mean(y[pos_mask])), np.full(num_unlabeled, 0)))\n",
    "        \n",
    "        # Concatenate input features\n",
    "        if isinstance(x, csr_matrix):\n",
    "            x_new = vstack([x[pos_mask], x[~pos_mask], x[~pos_mask]])\n",
    "        else:\n",
    "            x_new = np.concatenate((x[pos_mask], x[~pos_mask], x[~pos_mask]))\n",
    "        \n",
    "        return x_new, y_new, weights\n",
    "\n",
    "    @staticmethod\n",
    "    def balance_weights(y):\n",
    "        # Calculate class weights for balancing.\n",
    "        # Parameters:\n",
    "        # - y: Labels.\n",
    "        # Returns:\n",
    "        # - class_weights: Dictionary of class weights.\n",
    "\n",
    "        # Count occurrences of each class\n",
    "        counts = Counter(y)\n",
    "        \n",
    "        # Find the maximum count\n",
    "        max_weight = float(max(counts.values()))\n",
    "        \n",
    "        # Calculate class weights\n",
    "        class_weights = {int(k): max_weight / v for k, v in dict(counts).items()}\n",
    "        \n",
    "        # Print original class weights\n",
    "        print(\"Original class weights:\")\n",
    "        print(class_weights)\n",
    "        \n",
    "        return class_weights\n",
    "\n",
    "    @staticmethod\n",
    "    def corrected_balance_weights(y):\n",
    "        # Calculate corrected class weights.\n",
    "        # Parameters:\n",
    "        # - y: Labels.\n",
    "        # Returns:\n",
    "        # - class_weights: Dictionary of class weights.\n",
    "\n",
    "        # Count occurrences of each class\n",
    "        counts = Counter(y)\n",
    "        \n",
    "        # Calculate class weights\n",
    "        class_weights = {int(k): 1.0 / v for k, v in dict(counts).items()}\n",
    "        \n",
    "        # Print corrected class weights\n",
    "        print(\"Corrected class weights:\")\n",
    "        print(class_weights)\n",
    "        \n",
    "        return class_weights\n",
    "\n",
    "    def fit(self, x, y, update_weights=True):\n",
    "        # Print unique class labels in y\n",
    "        print(\"Unique class labels in y:\", np.unique(y))\n",
    "    \n",
    "        # Print information about fitting non-traditional classifier\n",
    "        print(\"fitting non-traditional classifier...\")\n",
    "    \n",
    "        # Update class weights if required\n",
    "        if update_weights:\n",
    "            weights = self.balance_weights(y)\n",
    "            print(\"Non-traditional classifier class weights:\", weights)\n",
    "            self.clf_1.set_params(class_weight=weights)\n",
    "    \n",
    "        # Fit the first classifier\n",
    "        self.clf_1.fit(x.values, y)  # Convert DataFrame to NumPy array\n",
    "    \n",
    "        # Handle unlabeled instances with -1 in y\n",
    "        unlabeled_mask = y == -1\n",
    "        if np.any(unlabeled_mask):\n",
    "            y[unlabeled_mask] = np.mean(y[~unlabeled_mask])\n",
    "    \n",
    "        # Generate intermediate dataset\n",
    "        x, y, w = self.intermediate_data_set(self.clf_1, x.values, y, self.expected_false_negative_frac)  # Convert DataFrame to NumPy array\n",
    "    \n",
    "        # Print information about fitting semi-supervised classifier\n",
    "        print(\"fitting semi-supervised classifier...\")\n",
    "    \n",
    "        # Update class weights if required\n",
    "        if update_weights:\n",
    "            weights = self.corrected_balance_weights(y)\n",
    "            print(\"Semi-supervised classifier class weights:\", weights)\n",
    "            self.clf_2.set_params(class_weight=weights)\n",
    "    \n",
    "        # Fit the second classifier\n",
    "        self.clf_2.fit(x, y, w)\n",
    "    \n",
    "        return self\n",
    "\n",
    "    def predict(self, x):\n",
    "        # Make predictions using the fitted semi-supervised classifier.\n",
    "        # Parameters:\n",
    "        # - x: Input features.\n",
    "        # Returns:\n",
    "        # - Predicted labels.\n",
    "\n",
    "        return self.clf_2.predict(x)\n",
    "\n",
    "    def predict_proba(self, x):\n",
    "        # Predict class probabilities using the fitted semi-supervised classifier.\n",
    "        # Parameters:\n",
    "        # - x: Input features.\n",
    "        # Returns:\n",
    "        # - Predicted class probabilities.\n",
    "\n",
    "        return self.clf_2.predict_proba(x)"
   ]
  },
  {
   "cell_type": "code",
   "execution_count": 7,
   "id": "5e27c56a",
   "metadata": {},
   "outputs": [
    {
     "name": "stdout",
     "output_type": "stream",
     "text": [
      "Unique class labels in y: [0 1]\n",
      "fitting non-traditional classifier...\n",
      "Original class weights:\n",
      "{1: 1.8656716417910448, 0: 1.0}\n",
      "Non-traditional classifier class weights: {1: 1.8656716417910448, 0: 1.0}\n",
      "Type of x: <class 'numpy.ndarray'>\n",
      "fitting semi-supervised classifier...\n",
      "Corrected class weights:\n",
      "{1: 0.0013020833333333333, 0: 0.002}\n",
      "Semi-supervised classifier class weights: {1: 0.0013020833333333333, 0: 0.002}\n"
     ]
    },
    {
     "data": {
      "text/plain": [
       "<__main__.SemiSupervisedClassifier at 0x28042791af0>"
      ]
     },
     "execution_count": 7,
     "metadata": {},
     "output_type": "execute_result"
    }
   ],
   "source": [
    "# Assuming 'Outcome' is your target variable\n",
    "X = df.drop('Outcome', axis=1)  # Features\n",
    "y = df['Outcome']               # Target variable\n",
    "\n",
    "# Instantiate and fit the SemiSupervisedClassifier\n",
    "semi_supervised_clf = SemiSupervisedClassifier()\n",
    "semi_supervised_clf.fit(X, y)"
   ]
  },
  {
   "cell_type": "markdown",
   "id": "92cda024",
   "metadata": {},
   "source": [
    "# Unsupervised Classifier "
   ]
  },
  {
   "cell_type": "code",
   "execution_count": 8,
   "id": "ef43e044",
   "metadata": {},
   "outputs": [],
   "source": [
    "from sklearn.cluster import KMeans\n",
    "\n",
    "class UnsupervisedClustering(object):\n",
    "    def __init__(self, n_clusters=3, kmeans_params=None):\n",
    "        \"\"\"\n",
    "        Constructor to initialize the UnsupervisedClustering object.\n",
    "        \n",
    "        Parameters:\n",
    "        - n_clusters: Number of clusters for K-Means (default is 3).\n",
    "        - kmeans_params: Additional parameters for the K-Means algorithm (default is None).\n",
    "        \"\"\"\n",
    "        self.n_clusters = n_clusters\n",
    "        self.kmeans_params = kmeans_params if kmeans_params is not None else {}\n",
    "        self.kmeans = KMeans(n_clusters=self.n_clusters, **self.kmeans_params)\n",
    "        self.is_fit = False\n",
    "    \n",
    "    def fit(self, x):\n",
    "        \"\"\"\n",
    "        Fit the clustering algorithm on the provided data.\n",
    "        \n",
    "        Parameters:\n",
    "        - x: Input features.\n",
    "        \n",
    "        Returns:\n",
    "        - self.\n",
    "        \"\"\"\n",
    "        self.kmeans.fit(x)\n",
    "        self.is_fit = True\n",
    "        return self\n",
    "    \n",
    "    def predict(self, x):\n",
    "        \"\"\"\n",
    "        Predict cluster labels for the input data.\n",
    "        \n",
    "        Parameters:\n",
    "        - x: Input features.\n",
    "        \n",
    "        Returns:\n",
    "        - Predicted cluster labels.\n",
    "        \"\"\"\n",
    "        if not self.is_fit:\n",
    "            raise ValueError(\"Clustering algorithm not fitted. Call fit() before making predictions.\")\n",
    "        return self.kmeans.predict(x)"
   ]
  },
  {
   "cell_type": "code",
   "execution_count": 9,
   "id": "a8cb5667",
   "metadata": {},
   "outputs": [
    {
     "name": "stdout",
     "output_type": "stream",
     "text": [
      "Unique Cluster Labels: [0 1 2 3]\n"
     ]
    }
   ],
   "source": [
    "# Assuming you have a dataset loaded in the variable X\n",
    "data_x = df.drop('Outcome', axis=1)\n",
    "    \n",
    "# Create an instance of the UnsupervisedClustering\n",
    "unsupervised_clustering = UnsupervisedClustering(n_clusters=4)\n",
    "\n",
    "# Fit the clustering algorithm on your data\n",
    "unsupervised_clustering.fit(data_x)\n",
    "\n",
    "# Get predicted cluster labels\n",
    "cluster_labels = unsupervised_clustering.predict(data_x)\n",
    "\n",
    "# Print unique cluster labels\n",
    "unique_clusters = np.unique(cluster_labels)\n",
    "print(\"Unique Cluster Labels:\", unique_clusters)\n",
    "\n",
    "# Since this is unsupervised, there are no class weights\n",
    "# Original and corrected class weights are not applicable"
   ]
  },
  {
   "cell_type": "markdown",
   "id": "b38be261",
   "metadata": {},
   "source": [
    "# Conclusion"
   ]
  },
  {
   "cell_type": "markdown",
   "id": "af57c7c8",
   "metadata": {},
   "source": [
    "The dataset initially exhibits class imbalance, and efforts have been made to address this issue by adjusting class weights.\n",
    "Three different classifiers (supervised, semi-supervised, and unsupervised) have been employed, each with its own set of class weights, indicating an exploration of different strategies to handle imbalanced data.\n",
    "Clustering has also been performed, leading to the identification of four unique clusters."
   ]
  }
 ],
 "metadata": {
  "kernelspec": {
   "display_name": "Python 3 (ipykernel)",
   "language": "python",
   "name": "python3"
  },
  "language_info": {
   "codemirror_mode": {
    "name": "ipython",
    "version": 3
   },
   "file_extension": ".py",
   "mimetype": "text/x-python",
   "name": "python",
   "nbconvert_exporter": "python",
   "pygments_lexer": "ipython3",
   "version": "3.9.7"
  }
 },
 "nbformat": 4,
 "nbformat_minor": 5
}
